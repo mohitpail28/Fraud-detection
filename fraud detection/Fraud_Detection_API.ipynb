{
  "nbformat": 4,
  "nbformat_minor": 0,
  "metadata": {
    "colab": {
      "provenance": [],
      "collapsed_sections": [
        "BznSgaohkiYq",
        "kiPgeIdmu_sf"
      ]
    },
    "kernelspec": {
      "name": "python3",
      "display_name": "Python 3"
    },
    "language_info": {
      "name": "python"
    },
    "widgets": {
      "application/vnd.jupyter.widget-state+json": {
        "4d74d1a2fc664ea5aef0bdb01e52309c": {
          "model_module": "@jupyter-widgets/controls",
          "model_name": "HBoxModel",
          "model_module_version": "1.5.0",
          "state": {
            "_dom_classes": [],
            "_model_module": "@jupyter-widgets/controls",
            "_model_module_version": "1.5.0",
            "_model_name": "HBoxModel",
            "_view_count": null,
            "_view_module": "@jupyter-widgets/controls",
            "_view_module_version": "1.5.0",
            "_view_name": "HBoxView",
            "box_style": "",
            "children": [
              "IPY_MODEL_ea1aae82ffa3443b9bcbec5b2aa975b5",
              "IPY_MODEL_e95af37f7e2946a4bb318d4c29edbc9c",
              "IPY_MODEL_5d78bb09be9d488ea9fa495cd1793c4a"
            ],
            "layout": "IPY_MODEL_52ed426b46eb4c44a9439b6829bbdce5"
          }
        },
        "ea1aae82ffa3443b9bcbec5b2aa975b5": {
          "model_module": "@jupyter-widgets/controls",
          "model_name": "HTMLModel",
          "model_module_version": "1.5.0",
          "state": {
            "_dom_classes": [],
            "_model_module": "@jupyter-widgets/controls",
            "_model_module_version": "1.5.0",
            "_model_name": "HTMLModel",
            "_view_count": null,
            "_view_module": "@jupyter-widgets/controls",
            "_view_module_version": "1.5.0",
            "_view_name": "HTMLView",
            "description": "",
            "description_tooltip": null,
            "layout": "IPY_MODEL_eebfa7e6cd654fc6a7c5a0aefc27156a",
            "placeholder": "​",
            "style": "IPY_MODEL_31c864e564694a28a34e2a583646634d",
            "value": "100%"
          }
        },
        "e95af37f7e2946a4bb318d4c29edbc9c": {
          "model_module": "@jupyter-widgets/controls",
          "model_name": "FloatProgressModel",
          "model_module_version": "1.5.0",
          "state": {
            "_dom_classes": [],
            "_model_module": "@jupyter-widgets/controls",
            "_model_module_version": "1.5.0",
            "_model_name": "FloatProgressModel",
            "_view_count": null,
            "_view_module": "@jupyter-widgets/controls",
            "_view_module_version": "1.5.0",
            "_view_name": "ProgressView",
            "bar_style": "success",
            "description": "",
            "description_tooltip": null,
            "layout": "IPY_MODEL_d983b2ddac784c15a909b96c43e456a6",
            "max": 100,
            "min": 0,
            "orientation": "horizontal",
            "style": "IPY_MODEL_42a78994e724471b9f8065cc4fd858fd",
            "value": 100
          }
        },
        "5d78bb09be9d488ea9fa495cd1793c4a": {
          "model_module": "@jupyter-widgets/controls",
          "model_name": "HTMLModel",
          "model_module_version": "1.5.0",
          "state": {
            "_dom_classes": [],
            "_model_module": "@jupyter-widgets/controls",
            "_model_module_version": "1.5.0",
            "_model_name": "HTMLModel",
            "_view_count": null,
            "_view_module": "@jupyter-widgets/controls",
            "_view_module_version": "1.5.0",
            "_view_name": "HTMLView",
            "description": "",
            "description_tooltip": null,
            "layout": "IPY_MODEL_ca07b7a760294bf2a3229e1cbca069a5",
            "placeholder": "​",
            "style": "IPY_MODEL_a986cd9ac1be455092556f1dd961e9b9",
            "value": " 100/100 [01:18&lt;00:00,  1.37it/s]"
          }
        },
        "52ed426b46eb4c44a9439b6829bbdce5": {
          "model_module": "@jupyter-widgets/base",
          "model_name": "LayoutModel",
          "model_module_version": "1.2.0",
          "state": {
            "_model_module": "@jupyter-widgets/base",
            "_model_module_version": "1.2.0",
            "_model_name": "LayoutModel",
            "_view_count": null,
            "_view_module": "@jupyter-widgets/base",
            "_view_module_version": "1.2.0",
            "_view_name": "LayoutView",
            "align_content": null,
            "align_items": null,
            "align_self": null,
            "border": null,
            "bottom": null,
            "display": null,
            "flex": null,
            "flex_flow": null,
            "grid_area": null,
            "grid_auto_columns": null,
            "grid_auto_flow": null,
            "grid_auto_rows": null,
            "grid_column": null,
            "grid_gap": null,
            "grid_row": null,
            "grid_template_areas": null,
            "grid_template_columns": null,
            "grid_template_rows": null,
            "height": null,
            "justify_content": null,
            "justify_items": null,
            "left": null,
            "margin": null,
            "max_height": null,
            "max_width": null,
            "min_height": null,
            "min_width": null,
            "object_fit": null,
            "object_position": null,
            "order": null,
            "overflow": null,
            "overflow_x": null,
            "overflow_y": null,
            "padding": null,
            "right": null,
            "top": null,
            "visibility": null,
            "width": null
          }
        },
        "eebfa7e6cd654fc6a7c5a0aefc27156a": {
          "model_module": "@jupyter-widgets/base",
          "model_name": "LayoutModel",
          "model_module_version": "1.2.0",
          "state": {
            "_model_module": "@jupyter-widgets/base",
            "_model_module_version": "1.2.0",
            "_model_name": "LayoutModel",
            "_view_count": null,
            "_view_module": "@jupyter-widgets/base",
            "_view_module_version": "1.2.0",
            "_view_name": "LayoutView",
            "align_content": null,
            "align_items": null,
            "align_self": null,
            "border": null,
            "bottom": null,
            "display": null,
            "flex": null,
            "flex_flow": null,
            "grid_area": null,
            "grid_auto_columns": null,
            "grid_auto_flow": null,
            "grid_auto_rows": null,
            "grid_column": null,
            "grid_gap": null,
            "grid_row": null,
            "grid_template_areas": null,
            "grid_template_columns": null,
            "grid_template_rows": null,
            "height": null,
            "justify_content": null,
            "justify_items": null,
            "left": null,
            "margin": null,
            "max_height": null,
            "max_width": null,
            "min_height": null,
            "min_width": null,
            "object_fit": null,
            "object_position": null,
            "order": null,
            "overflow": null,
            "overflow_x": null,
            "overflow_y": null,
            "padding": null,
            "right": null,
            "top": null,
            "visibility": null,
            "width": null
          }
        },
        "31c864e564694a28a34e2a583646634d": {
          "model_module": "@jupyter-widgets/controls",
          "model_name": "DescriptionStyleModel",
          "model_module_version": "1.5.0",
          "state": {
            "_model_module": "@jupyter-widgets/controls",
            "_model_module_version": "1.5.0",
            "_model_name": "DescriptionStyleModel",
            "_view_count": null,
            "_view_module": "@jupyter-widgets/base",
            "_view_module_version": "1.2.0",
            "_view_name": "StyleView",
            "description_width": ""
          }
        },
        "d983b2ddac784c15a909b96c43e456a6": {
          "model_module": "@jupyter-widgets/base",
          "model_name": "LayoutModel",
          "model_module_version": "1.2.0",
          "state": {
            "_model_module": "@jupyter-widgets/base",
            "_model_module_version": "1.2.0",
            "_model_name": "LayoutModel",
            "_view_count": null,
            "_view_module": "@jupyter-widgets/base",
            "_view_module_version": "1.2.0",
            "_view_name": "LayoutView",
            "align_content": null,
            "align_items": null,
            "align_self": null,
            "border": null,
            "bottom": null,
            "display": null,
            "flex": null,
            "flex_flow": null,
            "grid_area": null,
            "grid_auto_columns": null,
            "grid_auto_flow": null,
            "grid_auto_rows": null,
            "grid_column": null,
            "grid_gap": null,
            "grid_row": null,
            "grid_template_areas": null,
            "grid_template_columns": null,
            "grid_template_rows": null,
            "height": null,
            "justify_content": null,
            "justify_items": null,
            "left": null,
            "margin": null,
            "max_height": null,
            "max_width": null,
            "min_height": null,
            "min_width": null,
            "object_fit": null,
            "object_position": null,
            "order": null,
            "overflow": null,
            "overflow_x": null,
            "overflow_y": null,
            "padding": null,
            "right": null,
            "top": null,
            "visibility": null,
            "width": null
          }
        },
        "42a78994e724471b9f8065cc4fd858fd": {
          "model_module": "@jupyter-widgets/controls",
          "model_name": "ProgressStyleModel",
          "model_module_version": "1.5.0",
          "state": {
            "_model_module": "@jupyter-widgets/controls",
            "_model_module_version": "1.5.0",
            "_model_name": "ProgressStyleModel",
            "_view_count": null,
            "_view_module": "@jupyter-widgets/base",
            "_view_module_version": "1.2.0",
            "_view_name": "StyleView",
            "bar_color": null,
            "description_width": ""
          }
        },
        "ca07b7a760294bf2a3229e1cbca069a5": {
          "model_module": "@jupyter-widgets/base",
          "model_name": "LayoutModel",
          "model_module_version": "1.2.0",
          "state": {
            "_model_module": "@jupyter-widgets/base",
            "_model_module_version": "1.2.0",
            "_model_name": "LayoutModel",
            "_view_count": null,
            "_view_module": "@jupyter-widgets/base",
            "_view_module_version": "1.2.0",
            "_view_name": "LayoutView",
            "align_content": null,
            "align_items": null,
            "align_self": null,
            "border": null,
            "bottom": null,
            "display": null,
            "flex": null,
            "flex_flow": null,
            "grid_area": null,
            "grid_auto_columns": null,
            "grid_auto_flow": null,
            "grid_auto_rows": null,
            "grid_column": null,
            "grid_gap": null,
            "grid_row": null,
            "grid_template_areas": null,
            "grid_template_columns": null,
            "grid_template_rows": null,
            "height": null,
            "justify_content": null,
            "justify_items": null,
            "left": null,
            "margin": null,
            "max_height": null,
            "max_width": null,
            "min_height": null,
            "min_width": null,
            "object_fit": null,
            "object_position": null,
            "order": null,
            "overflow": null,
            "overflow_x": null,
            "overflow_y": null,
            "padding": null,
            "right": null,
            "top": null,
            "visibility": null,
            "width": null
          }
        },
        "a986cd9ac1be455092556f1dd961e9b9": {
          "model_module": "@jupyter-widgets/controls",
          "model_name": "DescriptionStyleModel",
          "model_module_version": "1.5.0",
          "state": {
            "_model_module": "@jupyter-widgets/controls",
            "_model_module_version": "1.5.0",
            "_model_name": "DescriptionStyleModel",
            "_view_count": null,
            "_view_module": "@jupyter-widgets/base",
            "_view_module_version": "1.2.0",
            "_view_name": "StyleView",
            "description_width": ""
          }
        }
      }
    }
  },
  "cells": [
    {
      "cell_type": "markdown",
      "source": [
        "# Data Engineering"
      ],
      "metadata": {
        "id": "BznSgaohkiYq"
      }
    },
    {
      "cell_type": "code",
      "source": [
        "# https://stackoverflow.com/a/50650918\n",
        "# https://www.kaggle.com/datasets/rupakroy/online-payments-fraud-detection-dataset\n",
        "! pip install kaggle imblearn xgboost lightgbm shap > /dev/null\n",
        "! pip install fastapi nest-asyncio pyngrok uvicorn > /dev/null\n",
        "\n",
        "# from google.colab import files\n",
        "# files.upload() # to upload kaggle.json\n",
        "\n",
        "# ! mkdir -p ~/.kaggle\n",
        "# ! cp kaggle.json ~/.kaggle/\n",
        "# ! chmod 600 ~/.kaggle/kaggle.json\n",
        "# ! chmod 600 /root/.kaggle/kaggle.json\n",
        "\n",
        "! kaggle datasets download -d rupakroy/online-payments-fraud-detection-dataset\n",
        "\n",
        "# ! rm -rvf ~/.kaggle/\n",
        "# ! rm -rvf /root/.kaggle/\n",
        "# ! rm -rvf ./kaggle.json\n",
        "\n",
        "! unzip ./online-payments-fraud-detection-dataset.zip\n",
        "! rm -vf ./online-payments-fraud-detection-dataset.zip"
      ],
      "metadata": {
        "colab": {
          "base_uri": "https://localhost:8080/"
        },
        "id": "AF0rGElPSG-C",
        "outputId": "3d3e9e71-5f32-4a28-964e-a1d04e6308c5"
      },
      "execution_count": 1,
      "outputs": [
        {
          "output_type": "stream",
          "name": "stdout",
          "text": [
            "Dataset URL: https://www.kaggle.com/datasets/rupakroy/online-payments-fraud-detection-dataset\n",
            "License(s): CC-BY-NC-SA-4.0\n",
            "Downloading online-payments-fraud-detection-dataset.zip to /content\n",
            " 99% 176M/178M [00:01<00:00, 103MB/s] \n",
            "100% 178M/178M [00:01<00:00, 109MB/s]\n",
            "Archive:  ./online-payments-fraud-detection-dataset.zip\n",
            "  inflating: PS_20174392719_1491204439457_log.csv  \n",
            "removed './online-payments-fraud-detection-dataset.zip'\n"
          ]
        }
      ]
    },
    {
      "cell_type": "code",
      "source": [
        "import numpy  as np\n",
        "import pandas as pd\n",
        "import seaborn as sns\n",
        "import matplotlib.pyplot as plt\n",
        "pd.set_option('display.width', 3000)\n",
        "sns.set()\n",
        "\n",
        "def adjoin(*objs, **kwds):\n",
        "    from pandas.io.formats.printing import adjoin as adj\n",
        "    space = kwds.get('space', 8)\n",
        "    reprs = [repr(obj).split('\\n') for obj in objs]\n",
        "    print(adj(space, *reprs), '\\n\\n')"
      ],
      "metadata": {
        "id": "tLOf3vNgXHqr"
      },
      "execution_count": 2,
      "outputs": []
    },
    {
      "cell_type": "code",
      "source": [
        "df = pd.read_csv('./PS_20174392719_1491204439457_log.csv')\n",
        "adjoin(df.head())\n",
        "\n",
        "\"\"\"\n",
        "adjoin(df['nameDest'].map(lambda x: x.startswith('M')).value_counts())\n",
        "\n",
        "# All were fully false\n",
        "# adjoin(df['nameDest'].map(lambda x: x.startswith('m')).value_counts())\n",
        "# adjoin(df['nameOrig'].map(lambda x: x.startswith('M')).value_counts())\n",
        "# adjoin(df['nameOrig'].map(lambda x: x.startswith('m')).value_counts())\n",
        "adjoin(df[df['nameDest'].map(lambda x: x.startswith('M'))]['isFraud'].value_counts())\n",
        "\n",
        "# No meaningful info on merchant transactions, hence drop them\n",
        "df['toMerchant'] = df['nameDest'].map(lambda x: x.startswith('M'))\n",
        "df = df[ ~df['toMerchant'] ].drop('toMerchant', axis=1)\n",
        "\n",
        "# There is no longer any meaning to names\n",
        "df = df.drop(['nameOrig', 'nameDest'], axis=1)\n",
        "\"\"\"\n",
        "df.info(verbose=True, show_counts=True)"
      ],
      "metadata": {
        "colab": {
          "base_uri": "https://localhost:8080/"
        },
        "id": "uPBZpg59YWNt",
        "outputId": "6901c16a-4b5e-4288-8840-96b65dfaf3be"
      },
      "execution_count": 3,
      "outputs": [
        {
          "output_type": "stream",
          "name": "stdout",
          "text": [
            "   step      type    amount     nameOrig  oldbalanceOrg  newbalanceOrig     nameDest  oldbalanceDest  newbalanceDest  isFraud  isFlaggedFraud\n",
            "0     1   PAYMENT   9839.64  C1231006815       170136.0       160296.36  M1979787155             0.0             0.0        0               0\n",
            "1     1   PAYMENT   1864.28  C1666544295        21249.0        19384.72  M2044282225             0.0             0.0        0               0\n",
            "2     1  TRANSFER    181.00  C1305486145          181.0            0.00   C553264065             0.0             0.0        1               0\n",
            "3     1  CASH_OUT    181.00   C840083671          181.0            0.00    C38997010         21182.0             0.0        1               0\n",
            "4     1   PAYMENT  11668.14  C2048537720        41554.0        29885.86  M1230701703             0.0             0.0        0               0 \n",
            "\n",
            "\n",
            "<class 'pandas.core.frame.DataFrame'>\n",
            "RangeIndex: 6362620 entries, 0 to 6362619\n",
            "Data columns (total 11 columns):\n",
            " #   Column          Non-Null Count    Dtype  \n",
            "---  ------          --------------    -----  \n",
            " 0   step            6362620 non-null  int64  \n",
            " 1   type            6362620 non-null  object \n",
            " 2   amount          6362620 non-null  float64\n",
            " 3   nameOrig        6362620 non-null  object \n",
            " 4   oldbalanceOrg   6362620 non-null  float64\n",
            " 5   newbalanceOrig  6362620 non-null  float64\n",
            " 6   nameDest        6362620 non-null  object \n",
            " 7   oldbalanceDest  6362620 non-null  float64\n",
            " 8   newbalanceDest  6362620 non-null  float64\n",
            " 9   isFraud         6362620 non-null  int64  \n",
            " 10  isFlaggedFraud  6362620 non-null  int64  \n",
            "dtypes: float64(5), int64(3), object(3)\n",
            "memory usage: 534.0+ MB\n"
          ]
        }
      ]
    },
    {
      "cell_type": "code",
      "source": [
        "# After the first development, shap values indicated 'type' to be non important\n",
        "# If destination is merchant, transaction is never fraud, so retain feature\n",
        "# adjoin(df['type'].value_counts())\n",
        "# df['type'] = df['type'].map({'CASH_IN': 1, 'CASH_OUT': 2, 'DEBIT': 3, 'PAYMENT': 4, 'TRANSFER': 5,})\n",
        "df['toMerc'] = df['nameDest'].map(lambda x: x.startswith('M')).astype(bool)\n",
        "df['isFraud'] = df['isFraud'].astype( bool)\n",
        "df['diffOrig'] = df['newbalanceOrig'] - df['oldbalanceOrg']\n",
        "df['diffDest'] = df['newbalanceDest'] - df['oldbalanceDest']\n",
        "\n",
        "cols_to_drop = [\n",
        "    'oldbalanceOrg', 'newbalanceOrig', 'nameOrig',\n",
        "    'nameDest', 'oldbalanceDest', 'newbalanceDest',\n",
        "    'isFlaggedFraud', 'step', 'type',\n",
        "]\n",
        "\n",
        "df = df.drop(cols_to_drop, axis=1)\n",
        "adjoin(df.head())\n",
        "df.info(verbose=True, show_counts=True)\n",
        "plt.figure(figsize = (6, 4))\n",
        "sns.heatmap(data = df.corr(), cmap = \"coolwarm\")"
      ],
      "metadata": {
        "colab": {
          "base_uri": "https://localhost:8080/",
          "height": 744
        },
        "id": "luZ4fu4qcNWv",
        "outputId": "cd263199-509a-4485-c109-5ed64ce8b37f"
      },
      "execution_count": 4,
      "outputs": [
        {
          "output_type": "stream",
          "name": "stdout",
          "text": [
            "     amount  isFraud  toMerc  diffOrig  diffDest\n",
            "0   9839.64    False    True  -9839.64       0.0\n",
            "1   1864.28    False    True  -1864.28       0.0\n",
            "2    181.00     True   False   -181.00       0.0\n",
            "3    181.00     True   False   -181.00  -21182.0\n",
            "4  11668.14    False    True -11668.14       0.0 \n",
            "\n",
            "\n",
            "<class 'pandas.core.frame.DataFrame'>\n",
            "RangeIndex: 6362620 entries, 0 to 6362619\n",
            "Data columns (total 5 columns):\n",
            " #   Column    Non-Null Count    Dtype  \n",
            "---  ------    --------------    -----  \n",
            " 0   amount    6362620 non-null  float64\n",
            " 1   isFraud   6362620 non-null  bool   \n",
            " 2   toMerc    6362620 non-null  bool   \n",
            " 3   diffOrig  6362620 non-null  float64\n",
            " 4   diffDest  6362620 non-null  float64\n",
            "dtypes: bool(2), float64(3)\n",
            "memory usage: 157.8 MB\n"
          ]
        },
        {
          "output_type": "execute_result",
          "data": {
            "text/plain": [
              "<Axes: >"
            ]
          },
          "metadata": {},
          "execution_count": 4
        },
        {
          "output_type": "display_data",
          "data": {
            "text/plain": [
              "<Figure size 600x400 with 2 Axes>"
            ],
            "image/png": "[encoded data removed]"
          },
          "metadata": {}
        }
      ]
    },
    {
      "cell_type": "code",
      "source": [
        "# X_old = df.drop('isFraud', axis=1)\n",
        "X_new = df.drop('isFraud', axis=1).copy()\n",
        "y_new = df['isFraud']\n",
        "\n",
        "# from sklearn.preprocessing import MinMaxScaler\n",
        "# # MinMaxScaler returns a numpy array\n",
        "# # X_new = will cause variable redefinition\n",
        "# # X_new.loc[:,:] will do smart allocation to a df view\n",
        "# X_new.loc[:,:] = MinMaxScaler().fit_transform(X_old, y_new)\n",
        "\n",
        "# Will organize by the df index automatically\n",
        "# X_old.join(X_new, lsuffix='_old', rsuffix='_new').sample(5)\n",
        "\n",
        "\"To avoid this we can simply use a pipeline with MMScaler + LGBMClassifier\"\n",
        "\n",
        "# Address class imbalance\n",
        "# Over-sampling with SMOTE - for testing\n",
        "from imblearn.over_sampling import SMOTE\n",
        "X_smote, y_smote = SMOTE().fit_resample(X_new,y_new)\n",
        "\n",
        "# Random Under Sampling - for training\n",
        "from imblearn.under_sampling import RandomUnderSampler\n",
        "X_under, y_under = RandomUnderSampler().fit_resample(X_new,y_new)\n",
        "adjoin(y_new.value_counts(), y_smote.value_counts(), y_under.value_counts())"
      ],
      "metadata": {
        "colab": {
          "base_uri": "https://localhost:8080/"
        },
        "id": "BG0Baw8vjwU0",
        "outputId": "d2d51ff9-734f-45bd-98a6-97247bdfeeeb"
      },
      "execution_count": 5,
      "outputs": [
        {
          "output_type": "stream",
          "name": "stdout",
          "text": [
            "isFraud                          isFraud                          isFraud                  \n",
            "False    6354407                 False    6354407                 False    8213            \n",
            "True        8213                 True     6354407                 True     8213            \n",
            "Name: count, dtype: int64        Name: count, dtype: int64        Name: count, dtype: int64 \n",
            "\n",
            "\n"
          ]
        }
      ]
    },
    {
      "cell_type": "markdown",
      "source": [
        "# Model Selection"
      ],
      "metadata": {
        "id": "kiPgeIdmu_sf"
      }
    },
    {
      "cell_type": "code",
      "source": [
        "from sklearn.model_selection import GridSearchCV\n",
        "from sklearn.preprocessing import MinMaxScaler\n",
        "from sklearn.base import BaseEstimator\n",
        "from sklearn.pipeline import Pipeline\n",
        "from sklearn.linear_model import LogisticRegression\n",
        "from sklearn.ensemble import RandomForestClassifier, ExtraTreesClassifier\n",
        "from sklearn.svm import SVC, LinearSVC, NuSVC\n",
        "from lightgbm import LGBMClassifier\n",
        "from xgboost import XGBClassifier\n",
        "\n",
        "class DummyEstimator(BaseEstimator):\n",
        "    def transform(self): pass\n",
        "    def fit(self): pass\n",
        "    def score(self): pass\n",
        "\n",
        "pipe = Pipeline([\n",
        "    ('scale', MinMaxScaler()),\n",
        "    ('estim', DummyEstimator()),\n",
        "])"
      ],
      "metadata": {
        "id": "flzSc04EvxQr"
      },
      "execution_count": 6,
      "outputs": []
    },
    {
      "cell_type": "code",
      "source": [
        "# https://stackoverflow.com/a/15599032\n",
        "# https://datascience.stackexchange.com/a/52030\n",
        "# SVC vs NuSVC vs LinearSVC\n",
        "# LinearSVC (~0.5sec) SVC ( ~3sec ) and NuSVC ( ~20sec ) are compute intensive\n",
        "\n",
        "# https://scikit-learn.org/stable/modules/model_evaluation.html#scoring-parameter\n",
        "# https://www.kaggle.com/code/paweljankiewicz/lightgbm-with-sklearn-pipelines\n",
        "# https://goodboychan.github.io/python/datacamp/machine_learning/2020/07/07/03-Using-XGBoost-in-pipelines.html\n",
        "\n",
        "grid_params = {\n",
        "    'estim': [\n",
        "        LogisticRegression(),\n",
        "        RandomForestClassifier(),\n",
        "        ExtraTreesClassifier(),\n",
        "        NuSVC(probability=True), # LinearSVC(), SVC()\n",
        "        XGBClassifier(),\n",
        "        LGBMClassifier(verbose= -100),\n",
        "    ]\n",
        "}\n",
        "\n",
        "# https://towardsdatascience.com/6-useful-metrics-to-evaluate-binary-classification-models-55fd1fed6a20\n",
        "grid_kwargs = dict(\n",
        "    estimator=pipe,\n",
        "    param_grid=grid_params,\n",
        "    cv=5, verbose=3, n_jobs=-1,\n",
        "    return_train_score=True,\n",
        "    # refit=False,\n",
        "    # Best model for overall score -> LGBMClassifier\n",
        "    # scoring = ['f1', 'precision', 'recall', 'roc_auc', 'accuracy']\n",
        "    scoring='precision', # Best model for prec -> RandomForest\n",
        ")\n",
        "\n",
        "# For fraud detection, we have to consider customer satisfaction\n",
        "# Hence minimize false positives -> Maximize Precision\n",
        "# refit=False: We will have to manually refit best model in case of multimetric"
      ],
      "metadata": {
        "id": "758rywaQsjSq"
      },
      "execution_count": 7,
      "outputs": []
    },
    {
      "cell_type": "code",
      "source": [
        "\"# Under Sampled Data (16k records) for training\"\n",
        "X, y = X_under.to_numpy(), y_under.to_numpy()\n",
        "\n",
        "# Temporarily Suppressing Warnings\n",
        "# https://stackoverflow.com/a/32389270\n",
        "\n",
        "import warnings\n",
        "\n",
        "with warnings.catch_warnings():\n",
        "    warnings.simplefilter(\"ignore\")\n",
        "    pipeGrid = GridSearchCV(**grid_kwargs).fit(X, y)\n",
        "\n",
        "# For multimetric evaluation only\n",
        "# For single metric, we can choose best estimator\n",
        "# results = pd.DataFrame(pipeGrid.cv_results_)\n",
        "\n",
        "# adjoin(\n",
        "#     results.filter(like=\"rank_test_\").sum(axis=1),\n",
        "#     results.filter(like=\"split\").dropna(axis=1).mean(axis=1)\n",
        "# )\n",
        "\n",
        "# results.columns\n",
        "# https://datascience.stackexchange.com/a/6855\n",
        "print(pipeGrid.best_estimator_)\n",
        "adjoin(pd.DataFrame(pipeGrid.cv_results_), '')\n",
        "X_under.columns"
      ],
      "metadata": {
        "colab": {
          "base_uri": "https://localhost:8080/"
        },
        "id": "q135Kpx9Cywa",
        "outputId": "5959d671-63fd-45b3-e93f-290a8fdf8b7b"
      },
      "execution_count": 8,
      "outputs": [
        {
          "output_type": "stream",
          "name": "stdout",
          "text": [
            "Fitting 5 folds for each of 6 candidates, totalling 30 fits\n",
            "Pipeline(steps=[('scale', MinMaxScaler()), ('estim', NuSVC(probability=True))])\n",
            "   mean_fit_time  std_fit_time  mean_score_time  std_score_time                                        param_estim                                             params  split0_test_score  split1_test_score  split2_test_score  split3_test_score  ...  mean_test_score  std_test_score  rank_test_score  split0_train_score  split1_train_score  split2_train_score  split3_train_score  split4_train_score  mean_train_score  std_train_score          \n",
            "0       0.107558      0.006480         0.009974        0.004046                               LogisticRegression()                    {'estim': LogisticRegression()}                0.0                0.0           0.961753                1.0  ...         0.592351        0.483854                2            0.782978            0.787451            0.962438            0.984101            0.984370          0.900268         0.094288          \n",
            "1       2.790528      0.935690         0.052887        0.001964                           RandomForestClassifier()                {'estim': RandomForestClassifier()}                0.0                0.0           0.956631                1.0  ...         0.591326        0.483075                3            0.999392            0.999513            0.999087            0.998986            0.999391          0.999274         0.000201          \n",
            "2       0.870217      0.032905         0.072179        0.002408                             ExtraTreesClassifier()                  {'estim': ExtraTreesClassifier()}                0.0                0.0           0.956386                1.0  ...         0.591277        0.483038                4            1.000000            1.000000            1.000000            1.000000            1.000000          1.000000         0.000000          \n",
            "3      91.255546     11.283970         2.144853        0.509027                            NuSVC(probability=True)                 {'estim': NuSVC(probability=True)}                0.0                0.0           0.979817                1.0  ...         0.595963        0.486658                1            0.718265            0.719565            0.981328            0.997855            0.998276          0.883058         0.134162          \n",
            "4       0.352223      0.060070         0.039617        0.008631  XGBClassifier(base_score=None, booster=None, c...  {'estim': XGBClassifier(base_score=None, boost...                0.0                0.0           0.952934                1.0  ...         0.590587        0.482518                6            0.973008            0.974747            0.962511            0.943389            0.944984          0.959728         0.013372          \n",
            "5       0.466599      0.087913         0.055325        0.020254                       LGBMClassifier(verbose=-100)            {'estim': LGBMClassifier(verbose=-100)}                0.0                0.0           0.953077                1.0  ...         0.590615        0.482540                5            0.973834            0.975334            0.963105            0.939923            0.943155          0.959070         0.014958          \n",
            "                                                                                                                                                                                                                                                                                                                                                                                                                                                         \n",
            "[6 rows x 21 columns]                                                                                                                                                                                                                                                                                                                                                                                                                                  '' \n",
            "\n",
            "\n"
          ]
        },
        {
          "output_type": "execute_result",
          "data": {
            "text/plain": [
              "Index(['amount', 'toMerc', 'diffOrig', 'diffDest'], dtype='object')"
            ]
          },
          "metadata": {},
          "execution_count": 8
        }
      ]
    },
    {
      "cell_type": "markdown",
      "source": [
        "# Model Testing Metrics"
      ],
      "metadata": {
        "id": "g4_E-7ruH7_5"
      }
    },
    {
      "cell_type": "code",
      "source": [
        "from sklearn.metrics import confusion_matrix, roc_auc_score\n",
        "from sklearn.metrics import precision_score, recall_score\n",
        "\n",
        "# Testing with N records from 12M oversampled records\n",
        "N = 20000\n",
        "tmp_df = pd.concat([X_smote, y_smote], axis=1).sample(N)\n",
        "y_true = tmp_df['isFraud']\n",
        "y_pred = pipeGrid.predict(tmp_df.drop('isFraud', axis=1).to_numpy())"
      ],
      "metadata": {
        "id": "MUgzQcCFAAbo"
      },
      "execution_count": 9,
      "outputs": []
    },
    {
      "cell_type": "code",
      "source": [
        "print(f\"Accuracy: {(y_pred == y_true).mean(): .4f}\")\n",
        "print(f\"Precision: {precision_score(y_true, y_pred): .4f}\")\n",
        "print(f\"Recall: {recall_score(y_true, y_pred): .4f}\")\n",
        "print(f\"ROC_AUC_score: {roc_auc_score(y_true, y_pred): .4f}\")\n",
        "\n",
        "# NuSVC is too compute intensive\n",
        "# But gives good Precision of 98%\n",
        "# With Lower Recall 70% and Accuracy 85%\n",
        "plt.figure(figsize = (4,3))\n",
        "plt.title('Confusion Matrix - Test Data - NuSVC')\n",
        "sns.heatmap(confusion_matrix(tmp_df['isFraud'], y_pred), annot=True, cmap='coolwarm')\n",
        "plt.xlabel('Predicted Label'); plt.ylabel('True Label');"
      ],
      "metadata": {
        "colab": {
          "base_uri": "https://localhost:8080/",
          "height": 411
        },
        "id": "SULuCtIqxjSS",
        "outputId": "914efd9e-2350-4d2c-f760-d79901ba9864"
      },
      "execution_count": 10,
      "outputs": [
        {
          "output_type": "stream",
          "name": "stdout",
          "text": [
            "Accuracy:  0.8429\n",
            "Precision:  0.9788\n",
            "Recall:  0.6995\n",
            "ROC_AUC_score:  0.8422\n"
          ]
        },
        {
          "output_type": "display_data",
          "data": {
            "text/plain": [
              "<Figure size 400x300 with 2 Axes>"
            ],
            "image/png": "[encoded data removed]"
          },
          "metadata": {}
        }
      ]
    },
    {
      "cell_type": "code",
      "source": [
        "# Model Interpretability\n",
        "# feat_imp = model.feature_importances_\n",
        "# https://stackoverflow.com/a/49818693\n",
        "\n",
        "# Cannot use feature importances if best estim is SVM\n",
        "try:\n",
        "    feat_imp = pipeGrid.best_estimator_.named_steps[\"estim\"].feature_importances_\n",
        "    pd.DataFrame(feat_imp, index=X_under.columns).plot.bar()\n",
        "except AttributeError:\n",
        "    print(\"'NuSVC' object has no attribute 'feature_importances_'\")"
      ],
      "metadata": {
        "colab": {
          "base_uri": "https://localhost:8080/"
        },
        "id": "jSwVM2VPyf0v",
        "outputId": "d5f06a44-f9ae-4328-d221-6a35179c181e"
      },
      "execution_count": 11,
      "outputs": [
        {
          "output_type": "stream",
          "name": "stdout",
          "text": [
            "'NuSVC' object has no attribute 'feature_importances_'\n"
          ]
        }
      ]
    },
    {
      "cell_type": "code",
      "source": [
        "# https://towardsdatascience.com/using-shap-values-to-explain-how-your-machine-learning-model-works-732b3f40e137\n",
        "# https://shap.readthedocs.io/en/latest/example_notebooks/tabular_examples/model_agnostic/Iris%20classification%20with%20scikit-learn.html#Support-vector-machine-with-a-radial-basis-function-kernel\n",
        "# https://stackoverflow.com/questions/60649581/gridsearchcv-uses-predict-or-predict-proba\n",
        "\n",
        "import shap\n",
        "# shap_values = shap.Explainer(pipeGrid.predict, tmp_df.drop('isFraud', axis=1))\n",
        "\n",
        "# Use in case of NuSVC, init with probability=True\n",
        "shap_sample = shap.sample(tmp_df.drop('isFraud', axis=1), 100)\n",
        "shap_values = shap.KernelExplainer(pipeGrid.predict_proba, shap_sample)\n",
        "\n",
        "with warnings.catch_warnings():\n",
        "    warnings.simplefilter(\"ignore\")\n",
        "    values = shap_values((tmp_df.drop('isFraud', axis=1).sample(100)))\n",
        "\n",
        "# Use only if Explainer() was used; not for KernelExplainer\n",
        "# shap.plots.bar(values)\n",
        "values.values[:, :, 1][:10]"
      ],
      "metadata": {
        "colab": {
          "base_uri": "https://localhost:8080/",
          "height": 223,
          "referenced_widgets": [
            "4d74d1a2fc664ea5aef0bdb01e52309c",
            "ea1aae82ffa3443b9bcbec5b2aa975b5",
            "e95af37f7e2946a4bb318d4c29edbc9c",
            "5d78bb09be9d488ea9fa495cd1793c4a",
            "52ed426b46eb4c44a9439b6829bbdce5",
            "eebfa7e6cd654fc6a7c5a0aefc27156a",
            "31c864e564694a28a34e2a583646634d",
            "d983b2ddac784c15a909b96c43e456a6",
            "42a78994e724471b9f8065cc4fd858fd",
            "ca07b7a760294bf2a3229e1cbca069a5",
            "a986cd9ac1be455092556f1dd961e9b9"
          ]
        },
        "id": "mSYXtVOl89RN",
        "outputId": "5bbac9d2-7658-4a56-f4c9-a62dd583c8d0"
      },
      "execution_count": 12,
      "outputs": [
        {
          "output_type": "display_data",
          "data": {
            "text/plain": [
              "  0%|          | 0/100 [00:00<?, ?it/s]"
            ],
            "application/vnd.jupyter.widget-view+json": {
              "version_major": 2,
              "version_minor": 0,
              "model_id": "4d74d1a2fc664ea5aef0bdb01e52309c"
            }
          },
          "metadata": {}
        },
        {
          "output_type": "execute_result",
          "data": {
            "text/plain": [
              "array([[-0.01708141,  0.08500346,  0.45035097, -0.02093186],\n",
              "       [ 0.00539094,  0.10571845,  0.38211185, -0.00172518],\n",
              "       [-0.04783537,  0.02000686,  0.51935451,  0.00581517],\n",
              "       [-0.16672397,  0.03189484, -0.08111631, -0.2847339 ],\n",
              "       [ 0.05036316,  0.0640389 , -0.20662596,  0.04311797],\n",
              "       [-0.04616139,  0.01227635,  0.58905005, -0.05782383],\n",
              "       [ 0.02518627,  0.04111709, -0.3744409 ,  0.01500712],\n",
              "       [ 0.01533768, -0.24262279, -0.27199564,  0.01326574],\n",
              "       [-0.00116627,  0.02301253, -0.53907546,  0.01941727],\n",
              "       [ 0.01727624,  0.03177322, -0.46594872,  0.0214754 ]])"
            ]
          },
          "metadata": {},
          "execution_count": 12
        }
      ]
    },
    {
      "cell_type": "code",
      "source": [
        "# Testing shap values for RandomForest\n",
        "# Training takes less than 1% of time as compared to NuSVC\n",
        "# NuSVC gives 98% Precision, RF gives 95%\n",
        "y_pred = RandomForestClassifier().fit(X_under, y_under).predict(tmp_df.drop('isFraud', axis=1))\n",
        "\n",
        "print(f\"Accuracy: {(y_pred == y_true).mean(): .4f}\")\n",
        "print(f\"Precision: {precision_score(y_true, y_pred): .4f}\")\n",
        "print(f\"Recall: {recall_score(y_true, y_pred): .4f}\")\n",
        "print(f\"ROC_AUC_score: {roc_auc_score(y_true, y_pred): .4f}\")\n",
        "\n",
        "plt.figure(figsize = (4,3))\n",
        "plt.title('Confusion Matrix - Test Data - Random Forest')\n",
        "sns.heatmap(confusion_matrix(tmp_df['isFraud'], y_pred), annot=True, cmap='coolwarm')\n",
        "plt.xlabel('Predicted Label'); plt.ylabel('True Label');\n",
        "\n",
        "# feat_imp = model.feature_importances_\n",
        "# pd.DataFrame(feat_imp, index=X_under.columns).plot.bar();"
      ],
      "metadata": {
        "colab": {
          "base_uri": "https://localhost:8080/",
          "height": 411
        },
        "id": "ZuXkguyjEWYV",
        "outputId": "9fbe053c-e6ec-45e6-b1a2-3f0e50f8c009"
      },
      "execution_count": 14,
      "outputs": [
        {
          "output_type": "stream",
          "name": "stdout",
          "text": [
            "Accuracy:  0.9678\n",
            "Precision:  0.9575\n",
            "Recall:  0.9788\n",
            "ROC_AUC_score:  0.9679\n"
          ]
        },
        {
          "output_type": "display_data",
          "data": {
            "text/plain": [
              "<Figure size 400x300 with 2 Axes>"
            ],
            "image/png": "[encoded data removed]"
          },
          "metadata": {}
        }
      ]
    },
    {
      "cell_type": "markdown",
      "source": [
        "# API Development & Testing"
      ],
      "metadata": {
        "id": "ufPVeDLqrAHh"
      }
    },
    {
      "cell_type": "code",
      "source": [
        "# https://stackoverflow.com/a/63833779\n",
        "# https://stackoverflow.com/a/78178013\n",
        "# https://dashboard.ngrok.com/tunnels/authtokens\n",
        "\n",
        "# Data Schema and app setup\n",
        "\n",
        "from fastapi import FastAPI\n",
        "from fastapi.middleware.cors import CORSMiddleware\n",
        "from pydantic import BaseModel\n",
        "\n",
        "app = FastAPI()\n",
        "\n",
        "app.add_middleware(\n",
        "    CORSMiddleware,\n",
        "    allow_origins=['*'],\n",
        "    allow_credentials=True,\n",
        "    allow_methods=['*'],\n",
        "    allow_headers=['*'],\n",
        ")\n",
        "\n",
        "class InputData(BaseModel):\n",
        "    amount: float\n",
        "    toMerc: bool\n",
        "    oldOrg: float\n",
        "    newOrg: float\n",
        "    oldDst: float\n",
        "    newDst: float"
      ],
      "metadata": {
        "id": "Oc5N1rh4x7Hh"
      },
      "execution_count": null,
      "outputs": []
    },
    {
      "cell_type": "code",
      "source": [
        "# Endpoints\n",
        "\n",
        "# We will set post method for root for prediction\n",
        "# go to homeurl/docs for SwaggerUI documentation\n",
        "@app.get('/')\n",
        "async def root():\n",
        "    return {'message': 'Hello, World!'}\n",
        "\n",
        "@app.post(\"/\")\n",
        "async def predict(input: InputData):\n",
        "    record = np.array([[\n",
        "        input.amount,\n",
        "        input.toMerc,\n",
        "        input.newOrg - input.oldOrg,\n",
        "        input.newDst - input.oldDst,\n",
        "    ]], dtype='float')\n",
        "\n",
        "    result = bool(pipeGrid.predict(record)[0])\n",
        "    return {'isFraud': result}\n",
        "\n",
        "# Deployment\n",
        "\n",
        "def start_server():\n",
        "    import nest_asyncio\n",
        "    import uvicorn\n",
        "    from pyngrok import ngrok\n",
        "\n",
        "    # Paste ngrok auth token here before deployment\n",
        "    ngrok.set_auth_token(\"\")\n",
        "    print('Public URL:', ngrok.connect(8000).public_url) # Get URL from tunnel\n",
        "    nest_asyncio.apply()\n",
        "    uvicorn.run(app, port=8000, timeout_keep_alive=15)\n",
        "\n",
        "\n",
        "if __name__ == \"__main__\":\n",
        "    try:\n",
        "        start_server()\n",
        "    except KeyboardInterrupt:\n",
        "        print(\"\\nKilled the server!\")"
      ],
      "metadata": {
        "id": "YwUzzCEyx3e2"
      },
      "execution_count": null,
      "outputs": []
    },
    {
      "cell_type": "code",
      "source": [
        "# Testing the API, run from another script\n",
        "\n",
        "import requests\n",
        "\n",
        "# Example input data\n",
        "input_data = {\n",
        "    \"amount\": 987895.45,\n",
        "    \"toMerc\": False,\n",
        "    \"oldOrg\": 100,\n",
        "    \"newOrg\": 100,\n",
        "    \"oldDst\": 100,\n",
        "    \"newDst\": 78548500,\n",
        "}\n",
        "\n",
        "# Send POST request to your FastAPI app\n",
        "# Copy Public NGROK url here before running\n",
        "response = requests.post(\"\", json=input_data)\n",
        "\n",
        "# Print the prediction returned by the API\n",
        "print(response.json())"
      ],
      "metadata": {
        "id": "tcZBmRYXx5BY"
      },
      "execution_count": null,
      "outputs": []
    }
  ]
}